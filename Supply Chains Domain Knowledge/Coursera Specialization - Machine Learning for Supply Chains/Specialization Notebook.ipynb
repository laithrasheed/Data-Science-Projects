{
 "cells": [
  {
   "cell_type": "markdown",
   "id": "7ccaf3f0",
   "metadata": {},
   "source": [
    "# **Machine Learning for Supply Chains**"
   ]
  },
  {
   "cell_type": "markdown",
   "id": "ac640268",
   "metadata": {},
   "source": [
    "## **Course 1: Fundamentals of Machine Learning for Supply Chains**"
   ]
  },
  {
   "cell_type": "markdown",
   "id": "83a8e874",
   "metadata": {},
   "source": [
    "### **What is PuLP**\n",
    "\n",
    "PuLP is a Python package that specializes in discrete optimization. For example, suppose we want to maximize $x \\cdot y$ given that $2x + y = 3$. \n",
    "\n",
    "If we allow any number as a solution, then calculus tells us that we would get $x = \\frac{3}{4}$ and $y = \\frac{3}{2}$. \n",
    "\n",
    "However, suppose we are only allowed to have integers for solutions (i.e., no fractions). One might expect the answer to be integers close to these fractions (e.g., $x = 1$ and $y = 1$), but it's not always this simple. We would use PuLP in place of calculus for problems like this."
   ]
  },
  {
   "cell_type": "markdown",
   "id": "22e45219",
   "metadata": {},
   "source": [
    "#### **Case Study: Simple Scheduling Application using Linear Programming (PuLP)**\n",
    "\n",
    "With reference to [Medium article about PuLP](#Optimization-with-PuLP-in-Python---Getting-Started), I have applied the code mentioned in the article as follows:\n",
    "\n",
    "##### **Problem Overview**\n",
    "\n",
    "We run a 24-hour lemonade stand with two products:\n",
    "\n",
    "- **Iced Lemonade**\n",
    "\n",
    "- **Frozen Lemonade Slushies**\n",
    "\n",
    "Each product has a **processing time** and a **forecasted hourly demand**.\n",
    "\n",
    "Our goal is to find out:\n",
    "\n",
    "- How many staff members are needed for each hour to **meet customer demand**.\n",
    "\n",
    "- How to **minimize staffing costs**, while ensuring all customer orders can be fulfilled."
   ]
  },
  {
   "cell_type": "markdown",
   "id": "7c8e9324",
   "metadata": {},
   "source": [
    "##### **Step 1: Import Libraries and Define Inputs**"
   ]
  },
  {
   "cell_type": "code",
   "execution_count": 5,
   "id": "1bdc3367",
   "metadata": {},
   "outputs": [],
   "source": [
    "# importing the necessary libraries\n",
    "import pandas as pd \n",
    "from pulp import LpProblem, LpVariable, lpSum, LpMinimize, LpStatus\n"
   ]
  },
  {
   "cell_type": "code",
   "execution_count": 6,
   "id": "3741552e",
   "metadata": {},
   "outputs": [],
   "source": [
    "# Define the 24 hours in a day\n",
    "hours = range(24)\n",
    "\n",
    "# Define expected hourly demand for each product\n",
    "demand_iced = pd.Series(\n",
    "    [7, 11, 8, 8, 5, 3, 8, 20, 52, 56, 85, 76, 102, 67, 82, 68, 65, 56, 50, 43, 47, 23, 29, 18]\n",
    ")\n",
    "\n",
    "demand_slushy = pd.Series(\n",
    "    [0, 0, 0, 0, 0, 0, 0, 0, 0, 38, 84, 93, 82, 93, 75, 70, 62, 22, 27, 17, 22, 0, 0, 0]\n",
    ")\n",
    "\n",
    "# Processing time in hours per product\n",
    "processing_time_iced = 2 / 60   # 2 minutes per iced lemonade\n",
    "processing_time_slushy = 5 / 60 # 5 minutes per slushy\n"
   ]
  },
  {
   "cell_type": "markdown",
   "id": "00788cee",
   "metadata": {},
   "source": [
    "##### **Step 2: Define the Optimization Problem**\n",
    "\n",
    "We are going to use **PuLP** to minimize the total staff cost, assuming:\n",
    "\n",
    "- Each staff member costs $15 per hour.\n",
    "\n",
    "- We need to satisfy customer demand using available staff hours."
   ]
  },
  {
   "cell_type": "code",
   "execution_count": 7,
   "id": "fdf73c4d",
   "metadata": {},
   "outputs": [],
   "source": [
    "# Define the LP problem\n",
    "prob = LpProblem(\"Simple_Scheduling_Application\", LpMinimize)\n",
    "\n",
    "# Define decision variables for number of staff needed each hour\n",
    "staff_needed = LpVariable.dicts(\"staff_hour\", hours, lowBound=0, cat='Continuous')\n"
   ]
  },
  {
   "cell_type": "markdown",
   "id": "b4a7b3e4",
   "metadata": {},
   "source": [
    "##### **Step 3: Set Objective Function**\n",
    "\n",
    "Our objective is to **minimize the total hourly cost** of staff."
   ]
  },
  {
   "cell_type": "code",
   "execution_count": 8,
   "id": "7e53dacf",
   "metadata": {},
   "outputs": [],
   "source": [
    "# Objective: Minimize total staffing cost\n",
    "prob += lpSum([15 * staff_needed[i] for i in hours]), \"Total_Cost\""
   ]
  },
  {
   "cell_type": "markdown",
   "id": "959ce094",
   "metadata": {},
   "source": [
    "##### **Step 4: Add Constraints**\n",
    "\n",
    "We add two main constraints for each hour:\n",
    "\n",
    "1. At least one person must be present at all times.\n",
    "\n",
    "2. The total staffing must be enough to handle demand."
   ]
  },
  {
   "cell_type": "code",
   "execution_count": 9,
   "id": "0ddab69b",
   "metadata": {},
   "outputs": [],
   "source": [
    "# Add constraints for each hour\n",
    "for hour in hours:\n",
    "    # Minimum 1 staff member at all hours\n",
    "    prob += staff_needed[hour] >= 1, f\"MinStaff_{hour}\"\n",
    "    \n",
    "    # Staff must be enough to meet demand\n",
    "    total_demand = processing_time_iced * demand_iced[hour] + processing_time_slushy * demand_slushy[hour]\n",
    "    prob += staff_needed[hour] >= total_demand, f\"DemandConstraint_{hour}\"\n"
   ]
  },
  {
   "cell_type": "markdown",
   "id": "36f2a912",
   "metadata": {},
   "source": [
    "##### **Step 5: Solve the Problem**"
   ]
  },
  {
   "cell_type": "code",
   "execution_count": 10,
   "id": "93634142",
   "metadata": {},
   "outputs": [
    {
     "name": "stdout",
     "output_type": "stream",
     "text": [
      "Status: Optimal\n",
      "staff_hour_0 = 1.0\n",
      "staff_hour_1 = 1.0\n",
      "staff_hour_10 = 9.83\n",
      "staff_hour_11 = 10.28\n",
      "staff_hour_12 = 10.23\n",
      "staff_hour_13 = 9.98\n",
      "staff_hour_14 = 8.98\n",
      "staff_hour_15 = 8.1\n",
      "staff_hour_16 = 7.33\n",
      "staff_hour_17 = 3.7\n",
      "staff_hour_18 = 3.92\n",
      "staff_hour_19 = 2.85\n",
      "staff_hour_2 = 1.0\n",
      "staff_hour_20 = 3.4\n",
      "staff_hour_21 = 1.0\n",
      "staff_hour_22 = 1.0\n",
      "staff_hour_23 = 1.0\n",
      "staff_hour_3 = 1.0\n",
      "staff_hour_4 = 1.0\n",
      "staff_hour_5 = 1.0\n",
      "staff_hour_6 = 1.0\n",
      "staff_hour_7 = 1.0\n",
      "staff_hour_8 = 1.73\n",
      "staff_hour_9 = 5.03\n"
     ]
    }
   ],
   "source": [
    "# Solve the LP problem\n",
    "status = prob.solve()\n",
    "\n",
    "# Print the solution status\n",
    "print(\"Status:\", LpStatus[status])\n",
    "\n",
    "# Print staff needed for each hour\n",
    "for v in prob.variables():\n",
    "    print(v.name, \"=\", round(v.varValue, 2))\n"
   ]
  },
  {
   "cell_type": "markdown",
   "id": "e0e72516",
   "metadata": {},
   "source": [
    "##### **Improved Version with Staffing Constraints**"
   ]
  },
  {
   "cell_type": "markdown",
   "id": "ff0e6c2b",
   "metadata": {},
   "source": [
    "##### **Problem Update**\n",
    "\n",
    "We now introduce **limited staff availability**:\n",
    "\n",
    "- We have only **5 employees**.\n",
    "\n",
    "- Each can work **up to 8 hours**, totaling 40 hours/day.\n",
    "\n",
    "We also account for **lost sales** when demand is not met."
   ]
  },
  {
   "cell_type": "markdown",
   "id": "411d1174",
   "metadata": {},
   "source": [
    "##### Define New Decision Variables"
   ]
  },
  {
   "cell_type": "code",
   "execution_count": 11,
   "id": "f0db182a",
   "metadata": {},
   "outputs": [],
   "source": [
    "# Re-initialize the problem with new constraints\n",
    "prob = LpProblem(\"Scheduling_With_Staff_Limit\", LpMinimize)\n",
    "\n",
    "# Define integer decision variables for staff and lost sales\n",
    "staff_needed = LpVariable.dicts(\"staff_hour\", hours, lowBound=0, cat='Integer')\n",
    "lost_iced = LpVariable.dicts(\"lost_iced\", hours, lowBound=0, cat='Integer')\n",
    "lost_slushy = LpVariable.dicts(\"lost_slushy\", hours, lowBound=0, cat='Integer')\n",
    "\n",
    "# Lost sales penalty cost\n",
    "cost_iced = 3\n",
    "cost_slushy = 5\n"
   ]
  },
  {
   "cell_type": "markdown",
   "id": "20c446fc",
   "metadata": {},
   "source": [
    "##### Update the Objective Function\n",
    "\n",
    "Now, we minimize both:\n",
    "\n",
    "- The cost of staff, and\n",
    "\n",
    "- The cost of lost sales."
   ]
  },
  {
   "cell_type": "code",
   "execution_count": 12,
   "id": "ef962363",
   "metadata": {},
   "outputs": [],
   "source": [
    "# Updated objective: Minimize staff + lost sales cost\n",
    "prob += lpSum([\n",
    "    15 * staff_needed[i] + cost_iced * lost_iced[i] + cost_slushy * lost_slushy[i]\n",
    "    for i in hours\n",
    "]), \"Total_Cost_with_Lost_Sales\"\n"
   ]
  },
  {
   "cell_type": "markdown",
   "id": "72430354",
   "metadata": {},
   "source": [
    "##### Update Constraints"
   ]
  },
  {
   "cell_type": "code",
   "execution_count": 13,
   "id": "2b837559",
   "metadata": {},
   "outputs": [],
   "source": [
    "# Total working hours for all staff should not exceed 40 (5 employees * 8 hours)\n",
    "prob += lpSum([staff_needed[i] for i in hours]) <= 5 * 8, \"Total_Work_Hours\"\n",
    "\n",
    "for i in hours:\n",
    "    # Minimum 1 staff per hour\n",
    "    prob += staff_needed[i] >= 1, f\"MinStaff_{i}\"\n",
    "    \n",
    "    # Max 5 staff at any hour\n",
    "    prob += staff_needed[i] <= 5, f\"MaxStaff_{i}\"\n",
    "    \n",
    "    # Demand constraint with allowance for lost sales\n",
    "    adjusted_demand = processing_time_iced * (demand_iced[i] - lost_iced[i]) + \\\n",
    "                      processing_time_slushy * (demand_slushy[i] - lost_slushy[i])\n",
    "    \n",
    "    prob += staff_needed[i] >= adjusted_demand, f\"DemandConstraint_{i}\"\n"
   ]
  },
  {
   "cell_type": "markdown",
   "id": "249f8ad7",
   "metadata": {},
   "source": [
    "#####  Solve the New Problem"
   ]
  },
  {
   "cell_type": "code",
   "execution_count": 14,
   "id": "671bfa24",
   "metadata": {},
   "outputs": [
    {
     "name": "stdout",
     "output_type": "stream",
     "text": [
      "Status: Optimal\n",
      "lost_iced_0 = 0.0\n",
      "lost_iced_1 = 0.0\n",
      "lost_iced_10 = 0.0\n",
      "lost_iced_11 = 1.0\n",
      "lost_iced_12 = 0.0\n",
      "lost_iced_13 = 0.0\n",
      "lost_iced_14 = 0.0\n",
      "lost_iced_15 = 1.0\n",
      "lost_iced_16 = 0.0\n",
      "lost_iced_17 = 1.0\n",
      "lost_iced_18 = 0.0\n",
      "lost_iced_19 = 1.0\n",
      "lost_iced_2 = 0.0\n",
      "lost_iced_20 = 0.0\n",
      "lost_iced_21 = 0.0\n",
      "lost_iced_22 = 0.0\n",
      "lost_iced_23 = 0.0\n",
      "lost_iced_3 = 0.0\n",
      "lost_iced_4 = 0.0\n",
      "lost_iced_5 = 0.0\n",
      "lost_iced_6 = 0.0\n",
      "lost_iced_7 = 0.0\n",
      "lost_iced_8 = 0.0\n",
      "lost_iced_9 = 1.0\n",
      "lost_slushy_0 = 0.0\n",
      "lost_slushy_1 = 0.0\n",
      "lost_slushy_10 = 106.0\n",
      "lost_slushy_11 = 111.0\n",
      "lost_slushy_12 = 111.0\n",
      "lost_slushy_13 = 60.0\n",
      "lost_slushy_14 = 48.0\n",
      "lost_slushy_15 = 85.0\n",
      "lost_slushy_16 = 76.0\n",
      "lost_slushy_17 = 8.0\n",
      "lost_slushy_18 = 11.0\n",
      "lost_slushy_19 = 22.0\n",
      "lost_slushy_2 = 0.0\n",
      "lost_slushy_20 = 5.0\n",
      "lost_slushy_21 = 0.0\n",
      "lost_slushy_22 = 0.0\n",
      "lost_slushy_23 = 0.0\n",
      "lost_slushy_3 = 0.0\n",
      "lost_slushy_4 = 0.0\n",
      "lost_slushy_5 = 0.0\n",
      "lost_slushy_6 = 0.0\n",
      "lost_slushy_7 = 0.0\n",
      "lost_slushy_8 = 9.0\n",
      "lost_slushy_9 = 24.0\n",
      "staff_hour_0 = 1.0\n",
      "staff_hour_1 = 1.0\n",
      "staff_hour_10 = 1.0\n",
      "staff_hour_11 = 1.0\n",
      "staff_hour_12 = 1.0\n",
      "staff_hour_13 = 5.0\n",
      "staff_hour_14 = 5.0\n",
      "staff_hour_15 = 1.0\n",
      "staff_hour_16 = 1.0\n",
      "staff_hour_17 = 3.0\n",
      "staff_hour_18 = 3.0\n",
      "staff_hour_19 = 1.0\n",
      "staff_hour_2 = 1.0\n",
      "staff_hour_20 = 3.0\n",
      "staff_hour_21 = 1.0\n",
      "staff_hour_22 = 1.0\n",
      "staff_hour_23 = 1.0\n",
      "staff_hour_3 = 1.0\n",
      "staff_hour_4 = 1.0\n",
      "staff_hour_5 = 1.0\n",
      "staff_hour_6 = 1.0\n",
      "staff_hour_7 = 1.0\n",
      "staff_hour_8 = 1.0\n",
      "staff_hour_9 = 3.0\n"
     ]
    }
   ],
   "source": [
    "# Solve the LP problem\n",
    "status = prob.solve()\n",
    "\n",
    "# Print status\n",
    "print(\"Status:\", LpStatus[status])\n",
    "\n",
    "# Print results\n",
    "for v in prob.variables():\n",
    "    print(v.name, \"=\", round(v.varValue, 2))\n"
   ]
  },
  {
   "cell_type": "markdown",
   "id": "213e8076",
   "metadata": {},
   "source": [
    "#### Module 1 - Video: Linear Programming with PuLP I and II"
   ]
  },
  {
   "cell_type": "code",
   "execution_count": null,
   "id": "986cf7a2",
   "metadata": {},
   "outputs": [],
   "source": []
  },
  {
   "cell_type": "code",
   "execution_count": null,
   "id": "7a040b18",
   "metadata": {},
   "outputs": [],
   "source": []
  },
  {
   "cell_type": "code",
   "execution_count": null,
   "id": "58961751",
   "metadata": {},
   "outputs": [],
   "source": []
  },
  {
   "cell_type": "code",
   "execution_count": null,
   "id": "54d87291",
   "metadata": {},
   "outputs": [],
   "source": []
  },
  {
   "cell_type": "markdown",
   "id": "ab0ec3e6",
   "metadata": {},
   "source": [
    "# References\n",
    "\n",
    "##### [Optimization with PuLP in Python - Getting Started](https://medium.com/@goldkamp.j16/optimization-with-pulp-in-python-getting-started-f6c5b678bf15)\n"
   ]
  }
 ],
 "metadata": {
  "kernelspec": {
   "display_name": ".venv",
   "language": "python",
   "name": "python3"
  },
  "language_info": {
   "codemirror_mode": {
    "name": "ipython",
    "version": 3
   },
   "file_extension": ".py",
   "mimetype": "text/x-python",
   "name": "python",
   "nbconvert_exporter": "python",
   "pygments_lexer": "ipython3",
   "version": "3.12.4"
  }
 },
 "nbformat": 4,
 "nbformat_minor": 5
}
