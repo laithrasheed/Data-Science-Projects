{
 "cells": [
  {
   "cell_type": "code",
   "execution_count": null,
   "id": "79ea5242",
   "metadata": {
    "vscode": {
     "languageId": "plaintext"
    }
   },
   "outputs": [],
   "source": []
  },
  {
   "cell_type": "markdown",
   "id": "7ccaf3f0",
   "metadata": {},
   "source": []
  }
 ],
 "metadata": {
  "language_info": {
   "name": "python"
  }
 },
 "nbformat": 4,
 "nbformat_minor": 5
}
